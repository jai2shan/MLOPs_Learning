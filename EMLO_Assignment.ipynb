{
 "cells": [
  {
   "cell_type": "code",
   "execution_count": 1,
   "metadata": {
    "id": "9iaTiBdrhO0R"
   },
   "outputs": [],
   "source": [
    "# !unzip \"/content/drive/MyDrive/TSAI/data.zip\" -d \"/content\"\n",
    "# !unzip \"/content/drive/MyDrive/TSAI/new-labels.zip\" -d \"/content\""
   ]
  },
  {
   "cell_type": "code",
   "execution_count": 2,
   "metadata": {
    "colab": {
     "base_uri": "https://localhost:8080/"
    },
    "id": "4hutcxmQ2cEW",
    "outputId": "74aea28a-6078-4c4a-eb65-774abff2caf3"
   },
   "outputs": [
    {
     "data": {
      "text/plain": [
       "['dogs', 'cats']"
      ]
     },
     "execution_count": 2,
     "metadata": {},
     "output_type": "execute_result"
    }
   ],
   "source": [
    "import os\n",
    "os.listdir(r'/content/data/train')"
   ]
  },
  {
   "cell_type": "code",
   "execution_count": 3,
   "metadata": {
    "id": "-kr6zrYAh1VS"
   },
   "outputs": [],
   "source": [
    "from __future__ import print_function\n",
    "import torch\n",
    "import torch.nn as nn\n",
    "import torch.nn.functional as F\n",
    "import torch.optim as optim\n",
    "from torchvision import datasets, transforms\n",
    "from torchsummary import summary\n",
    "from torch.utils.data import DataLoader, Dataset, ConcatDataset\n",
    "%matplotlib inline\n",
    "import matplotlib.pyplot as plt"
   ]
  },
  {
   "cell_type": "code",
   "execution_count": 4,
   "metadata": {
    "colab": {
     "base_uri": "https://localhost:8080/"
    },
    "id": "yofpXg7Rh2Mz",
    "outputId": "49324ba1-fd1a-42a7-8126-81059bb55f36"
   },
   "outputs": [
    {
     "data": {
      "text/plain": [
       "device(type='cuda')"
      ]
     },
     "execution_count": 4,
     "metadata": {},
     "output_type": "execute_result"
    }
   ],
   "source": [
    "use_cuda = torch.cuda.is_available()\n",
    "device = torch.device(\"cuda\" if use_cuda else \"cpu\")\n",
    "torch.manual_seed(1)\n",
    "# defining batch size for training\n",
    "batch_size = 200\n",
    "device"
   ]
  },
  {
   "cell_type": "code",
   "execution_count": 5,
   "metadata": {
    "colab": {
     "base_uri": "https://localhost:8080/"
    },
    "id": "JRCFnNP7ilon",
    "outputId": "dabd6dc4-7dfb-4e5c-fb7a-764401f23290"
   },
   "outputs": [
    {
     "data": {
      "text/plain": [
       "device(type='cuda')"
      ]
     },
     "execution_count": 5,
     "metadata": {},
     "output_type": "execute_result"
    }
   ],
   "source": [
    "device"
   ]
  },
  {
   "cell_type": "code",
   "execution_count": 6,
   "metadata": {
    "colab": {
     "base_uri": "https://localhost:8080/"
    },
    "id": "IeCpi5IHh8Uu",
    "outputId": "e349d6ff-d8c1-4e4e-bd91-6040595ee2b2"
   },
   "outputs": [
    {
     "name": "stderr",
     "output_type": "stream",
     "text": [
      "/usr/local/lib/python3.7/dist-packages/torchvision/transforms/transforms.py:1362: UserWarning: Argument resample is deprecated and will be removed since v0.10.0. Please, use interpolation instead\n",
      "  \"Argument resample is deprecated and will be removed since v0.10.0. Please, use interpolation instead\"\n",
      "/usr/local/lib/python3.7/dist-packages/torchvision/transforms/transforms.py:1376: UserWarning: Argument fillcolor is deprecated and will be removed since v0.10.0. Please, use fill instead\n",
      "  \"Argument fillcolor is deprecated and will be removed since v0.10.0. Please, use fill instead\"\n",
      "/usr/local/lib/python3.7/dist-packages/torch/utils/data/dataloader.py:481: UserWarning: This DataLoader will create 4 worker processes in total. Our suggested max number of worker in current system is 2, which is smaller than what this DataLoader is going to create. Please be aware that excessive worker creation might get DataLoader running slow or even freeze, lower the worker number to avoid potential slowness/freeze if necessary.\n",
      "  cpuset_checked))\n"
     ]
    }
   ],
   "source": [
    "# Keyword arguments for train_loader and test _loader to load images to GPU if the available\n",
    "kwargs = {'num_workers': 1, 'pin_memory': True} if use_cuda else {}\n",
    "\n",
    "# Trasformations on the data\n",
    "transform_train =   transforms.Compose([\n",
    "        transforms.Resize((224, 224)),\n",
    "        transforms.RandomHorizontalFlip(),\n",
    "        transforms.ColorJitter(brightness=0.2, contrast=0.2, saturation=0.1, hue=0.1),\n",
    "        transforms.RandomAffine(degrees=40, translate=None, scale=(1, 2), shear=15, resample=False, fillcolor=0),\n",
    "        transforms.ToTensor(),\n",
    "        transforms.Normalize((0.485, 0.456, 0.406), (0.229, 0.224, 0.225))\n",
    "])\n",
    "\n",
    "# Trasformations on the Validation\n",
    "transform_test =   transforms.Compose([\n",
    "        transforms.Resize((224, 224)),\n",
    "        transforms.ToTensor(),\n",
    "        transforms.Normalize((0.485, 0.456, 0.406), (0.229, 0.224, 0.225))\n",
    "])\n",
    "\n",
    "BATCH_SIZE = 128\n",
    "train_data = datasets.ImageFolder(root='data/train/', transform=transform_train)\n",
    "trainloader = DataLoader(train_data, batch_size=BATCH_SIZE, shuffle=True,  num_workers=4)\n",
    "test_data = datasets.ImageFolder(root='data/validation/', transform=transform_test)\n",
    "testloader  = DataLoader(test_data, batch_size=BATCH_SIZE, shuffle=True, num_workers=4) \n"
   ]
  },
  {
   "cell_type": "code",
   "execution_count": 7,
   "metadata": {
    "id": "mdIAcQ39h_wh"
   },
   "outputs": [],
   "source": [
    "import torchvision.models as models\n",
    "device = torch.device(\"cuda\" if torch.cuda.is_available() else \"cpu\")\n",
    "model_ft = models.vgg16(pretrained=True)"
   ]
  },
  {
   "cell_type": "code",
   "execution_count": 8,
   "metadata": {
    "colab": {
     "base_uri": "https://localhost:8080/"
    },
    "id": "TYdOGawdiCLN",
    "outputId": "2d4cc254-0003-4030-cd2e-93ee97ee187d"
   },
   "outputs": [
    {
     "name": "stdout",
     "output_type": "stream",
     "text": [
      "classifier.6.weight\n",
      "classifier.6.bias\n"
     ]
    }
   ],
   "source": [
    "num_ftrs = model_ft.classifier[6].in_features\n",
    "model_ft.classifier[6] = nn.Linear(num_ftrs, 2)\n",
    "model_ft.cuda()\n",
    "\n",
    "# Specify The Layers for updating\n",
    "params_to_update = []\n",
    "\n",
    "update_params_name = ['classifier.6.weight', 'classifier.6.bias']\n",
    "\n",
    "for name, param in model_ft.named_parameters():\n",
    "    if name in update_params_name:\n",
    "        param.requires_grad = True\n",
    "        params_to_update.append(param)\n",
    "        print(name)\n",
    "    else:\n",
    "        param.requires_grad = False\n",
    "\n",
    "criterion = nn.CrossEntropyLoss()\n",
    "# Observe that all parameters are being optimized\n",
    "optimizer_ft = optim.SGD(params=params_to_update, lr=0.001, momentum=0.9)\n",
    "# Decay LR by a factor of 0.1 every 7 epochs\n",
    "exp_lr_scheduler = torch.optim.lr_scheduler.StepLR(optimizer_ft, step_size=7, gamma=0.1)"
   ]
  },
  {
   "cell_type": "code",
   "execution_count": 10,
   "metadata": {
    "id": "XZmaDpXsiNph"
   },
   "outputs": [],
   "source": [
    "def train_model(model, criterion, optimizer, scheduler, metrics,num_epochs=25):\n",
    "    since = time.time()\n",
    "    train_acc, train_0,train_1 = 0,0,0\n",
    "\n",
    "    for epoch in range(num_epochs):\n",
    "        print('Epoch {}/{}'.format(epoch, num_epochs - 1))\n",
    "        print('-' * 10)\n",
    "        # Each epoch has a training and validation phase\n",
    "        for phase in ['train', 'val']:\n",
    "            if phase == 'train':\n",
    "                model.train()  # Set model to training mode\n",
    "            else:\n",
    "                model.eval()   # Set model to evaluate mode\n",
    "            running_loss = 0.0\n",
    "            running_corrects = 0\n",
    "            total_0 = 0\n",
    "            total_1 = 0\n",
    "            correct_0 = 0\n",
    "            correct_1 = 0\n",
    "            # Iterate over data.\n",
    "            for inputs, labels in trainloader:\n",
    "                inputs = inputs.to(device)\n",
    "                labels = labels.to(device)\n",
    "                # zero the parameter gradients\n",
    "                optimizer.zero_grad()\n",
    "                # forward\n",
    "                # track history if only in train\n",
    "                with torch.set_grad_enabled(phase == 'train'):\n",
    "                    outputs = model(inputs)\n",
    "                    _, preds = torch.max(outputs, 1)\n",
    "                    loss = criterion(outputs, labels)\n",
    "                    # backward + optimize only if in training phase\n",
    "                    if phase == 'train':\n",
    "                        loss.backward()\n",
    "                        optimizer.step()\n",
    "                # statistics\n",
    "                running_loss += loss.item() * inputs.size(0)\n",
    "                running_corrects += torch.sum(preds == labels.data)\n",
    "                total_0 += sum(labels.data == 0)\n",
    "                total_1 += sum(labels.data == 1)\n",
    "                correct_0 += torch.sum(preds[labels.data == 0] == labels.data[labels.data == 0])\n",
    "                correct_1 += torch.sum(preds[labels.data == 1] == labels.data[labels.data == 1])\n",
    "\n",
    "            epoch_loss = running_loss / (total_0+total_1)\n",
    "            epoch_acc = running_corrects.double() / (total_0+total_1)\n",
    "            ##class 0\n",
    "            class_0 = correct_0.double()/total_0\n",
    "            class_1 = correct_1.double()/total_1\n",
    "            print('{} class_0 Acc: {:.4f} class_1 Acc: {:.4f}'.format(phase, class_0, class_1))\n",
    "            print('{} Loss: {:.4f} Acc: {:.4f}'.format(phase, epoch_loss, epoch_acc))\n",
    "            if phase == 'train':\n",
    "                scheduler.step()\n",
    "                train_acc, train_0,train_1 = epoch_acc, class_0, class_1\n",
    "\n",
    "            metrics = {\"Train\":{\"Accuracy\": train_acc,\n",
    "                                \"Class Cats\": train_0,\n",
    "                                \"Class Dogs\": train_1},\n",
    "                      \"Test\":{\"Accuracy\": epoch_acc,\n",
    "                                \"Class Cats\": class_0,\n",
    "                                \"Class Dogs\": class_1}           \n",
    "                      }\n",
    "    time_elapsed = time.time() - since\n",
    "    print('Training complete in {:.0f}m {:.0f}s'.format(\n",
    "        time_elapsed // 60, time_elapsed % 60))\n",
    "    return model, metrics"
   ]
  },
  {
   "cell_type": "code",
   "execution_count": 11,
   "metadata": {
    "colab": {
     "base_uri": "https://localhost:8080/"
    },
    "id": "Htc0EfbQiT3l",
    "outputId": "62f9062a-2bae-4996-cfd0-6e60484fad55"
   },
   "outputs": [
    {
     "name": "stdout",
     "output_type": "stream",
     "text": [
      "Epoch 0/24\n",
      "----------\n"
     ]
    },
    {
     "name": "stderr",
     "output_type": "stream",
     "text": [
      "/usr/local/lib/python3.7/dist-packages/torch/utils/data/dataloader.py:481: UserWarning: This DataLoader will create 4 worker processes in total. Our suggested max number of worker in current system is 2, which is smaller than what this DataLoader is going to create. Please be aware that excessive worker creation might get DataLoader running slow or even freeze, lower the worker number to avoid potential slowness/freeze if necessary.\n",
      "  cpuset_checked))\n"
     ]
    },
    {
     "name": "stdout",
     "output_type": "stream",
     "text": [
      "train class_0 Acc: 0.6320 class_1 Acc: 0.6620\n",
      "train Loss: 0.6131 Acc: 0.6470\n",
      "val class_0 Acc: 0.9500 class_1 Acc: 0.8340\n",
      "val Loss: 0.3376 Acc: 0.8920\n",
      "Epoch 1/24\n",
      "----------\n",
      "train class_0 Acc: 0.8920 class_1 Acc: 0.8500\n",
      "train Loss: 0.3155 Acc: 0.8710\n",
      "val class_0 Acc: 0.9060 class_1 Acc: 0.9080\n",
      "val Loss: 0.2361 Acc: 0.9070\n",
      "Epoch 2/24\n",
      "----------\n",
      "train class_0 Acc: 0.8800 class_1 Acc: 0.9020\n",
      "train Loss: 0.2434 Acc: 0.8910\n",
      "val class_0 Acc: 0.9500 class_1 Acc: 0.8840\n",
      "val Loss: 0.2059 Acc: 0.9170\n",
      "Epoch 3/24\n",
      "----------\n",
      "train class_0 Acc: 0.9100 class_1 Acc: 0.9060\n",
      "train Loss: 0.2160 Acc: 0.9080\n",
      "val class_0 Acc: 0.9320 class_1 Acc: 0.8960\n",
      "val Loss: 0.1906 Acc: 0.9140\n",
      "Epoch 4/24\n",
      "----------\n",
      "train class_0 Acc: 0.9340 class_1 Acc: 0.9000\n",
      "train Loss: 0.2073 Acc: 0.9170\n",
      "val class_0 Acc: 0.9320 class_1 Acc: 0.9180\n",
      "val Loss: 0.1788 Acc: 0.9250\n",
      "Epoch 5/24\n",
      "----------\n",
      "train class_0 Acc: 0.9200 class_1 Acc: 0.9260\n",
      "train Loss: 0.1942 Acc: 0.9230\n",
      "val class_0 Acc: 0.9300 class_1 Acc: 0.9160\n",
      "val Loss: 0.1798 Acc: 0.9230\n",
      "Epoch 6/24\n",
      "----------\n",
      "train class_0 Acc: 0.9220 class_1 Acc: 0.9300\n",
      "train Loss: 0.1860 Acc: 0.9260\n",
      "val class_0 Acc: 0.9380 class_1 Acc: 0.9160\n",
      "val Loss: 0.1701 Acc: 0.9270\n",
      "Epoch 7/24\n",
      "----------\n",
      "train class_0 Acc: 0.8980 class_1 Acc: 0.9220\n",
      "train Loss: 0.2081 Acc: 0.9100\n",
      "val class_0 Acc: 0.9400 class_1 Acc: 0.8920\n",
      "val Loss: 0.1869 Acc: 0.9160\n",
      "Epoch 8/24\n",
      "----------\n",
      "train class_0 Acc: 0.9300 class_1 Acc: 0.8840\n",
      "train Loss: 0.2041 Acc: 0.9070\n",
      "val class_0 Acc: 0.9460 class_1 Acc: 0.9040\n",
      "val Loss: 0.1672 Acc: 0.9250\n",
      "Epoch 9/24\n",
      "----------\n",
      "train class_0 Acc: 0.9280 class_1 Acc: 0.9200\n",
      "train Loss: 0.1716 Acc: 0.9240\n",
      "val class_0 Acc: 0.9460 class_1 Acc: 0.8920\n",
      "val Loss: 0.1827 Acc: 0.9190\n",
      "Epoch 10/24\n",
      "----------\n",
      "train class_0 Acc: 0.9300 class_1 Acc: 0.9020\n",
      "train Loss: 0.1961 Acc: 0.9160\n",
      "val class_0 Acc: 0.9580 class_1 Acc: 0.9020\n",
      "val Loss: 0.1755 Acc: 0.9300\n",
      "Epoch 11/24\n",
      "----------\n",
      "train class_0 Acc: 0.9180 class_1 Acc: 0.8820\n",
      "train Loss: 0.2097 Acc: 0.9000\n",
      "val class_0 Acc: 0.9440 class_1 Acc: 0.9120\n",
      "val Loss: 0.1867 Acc: 0.9280\n",
      "Epoch 12/24\n",
      "----------\n",
      "train class_0 Acc: 0.9320 class_1 Acc: 0.9220\n",
      "train Loss: 0.1705 Acc: 0.9270\n",
      "val class_0 Acc: 0.9540 class_1 Acc: 0.9180\n",
      "val Loss: 0.1630 Acc: 0.9360\n",
      "Epoch 13/24\n",
      "----------\n",
      "train class_0 Acc: 0.9300 class_1 Acc: 0.9200\n",
      "train Loss: 0.1856 Acc: 0.9250\n",
      "val class_0 Acc: 0.9460 class_1 Acc: 0.9320\n",
      "val Loss: 0.1683 Acc: 0.9390\n",
      "Epoch 14/24\n",
      "----------\n",
      "train class_0 Acc: 0.9120 class_1 Acc: 0.8960\n",
      "train Loss: 0.2089 Acc: 0.9040\n",
      "val class_0 Acc: 0.9420 class_1 Acc: 0.9140\n",
      "val Loss: 0.1760 Acc: 0.9280\n",
      "Epoch 15/24\n",
      "----------\n",
      "train class_0 Acc: 0.9220 class_1 Acc: 0.9100\n",
      "train Loss: 0.1963 Acc: 0.9160\n",
      "val class_0 Acc: 0.9480 class_1 Acc: 0.9080\n",
      "val Loss: 0.1803 Acc: 0.9280\n",
      "Epoch 16/24\n",
      "----------\n",
      "train class_0 Acc: 0.9220 class_1 Acc: 0.9180\n",
      "train Loss: 0.1851 Acc: 0.9200\n",
      "val class_0 Acc: 0.9500 class_1 Acc: 0.8960\n",
      "val Loss: 0.1756 Acc: 0.9230\n",
      "Epoch 17/24\n",
      "----------\n",
      "train class_0 Acc: 0.9080 class_1 Acc: 0.9100\n",
      "train Loss: 0.1962 Acc: 0.9090\n",
      "val class_0 Acc: 0.9440 class_1 Acc: 0.9080\n",
      "val Loss: 0.1609 Acc: 0.9260\n",
      "Epoch 18/24\n",
      "----------\n",
      "train class_0 Acc: 0.9180 class_1 Acc: 0.9200\n",
      "train Loss: 0.1905 Acc: 0.9190\n",
      "val class_0 Acc: 0.9360 class_1 Acc: 0.9040\n",
      "val Loss: 0.1873 Acc: 0.9200\n",
      "Epoch 19/24\n",
      "----------\n",
      "train class_0 Acc: 0.9000 class_1 Acc: 0.9100\n",
      "train Loss: 0.2040 Acc: 0.9050\n",
      "val class_0 Acc: 0.9340 class_1 Acc: 0.9040\n",
      "val Loss: 0.1837 Acc: 0.9190\n",
      "Epoch 20/24\n",
      "----------\n",
      "train class_0 Acc: 0.9280 class_1 Acc: 0.9000\n",
      "train Loss: 0.1835 Acc: 0.9140\n",
      "val class_0 Acc: 0.9420 class_1 Acc: 0.8940\n",
      "val Loss: 0.1885 Acc: 0.9180\n",
      "Epoch 21/24\n",
      "----------\n",
      "train class_0 Acc: 0.9120 class_1 Acc: 0.9240\n",
      "train Loss: 0.1702 Acc: 0.9180\n",
      "val class_0 Acc: 0.9440 class_1 Acc: 0.9060\n",
      "val Loss: 0.1758 Acc: 0.9250\n",
      "Epoch 22/24\n",
      "----------\n",
      "train class_0 Acc: 0.9240 class_1 Acc: 0.9320\n",
      "train Loss: 0.1754 Acc: 0.9280\n",
      "val class_0 Acc: 0.9460 class_1 Acc: 0.9020\n",
      "val Loss: 0.1800 Acc: 0.9240\n",
      "Epoch 23/24\n",
      "----------\n",
      "train class_0 Acc: 0.9240 class_1 Acc: 0.9020\n",
      "train Loss: 0.1998 Acc: 0.9130\n",
      "val class_0 Acc: 0.9500 class_1 Acc: 0.9100\n",
      "val Loss: 0.1727 Acc: 0.9300\n",
      "Epoch 24/24\n",
      "----------\n",
      "train class_0 Acc: 0.8980 class_1 Acc: 0.9100\n",
      "train Loss: 0.2038 Acc: 0.9040\n",
      "val class_0 Acc: 0.9480 class_1 Acc: 0.8820\n",
      "val Loss: 0.1939 Acc: 0.9150\n",
      "Training complete in 9m 41s\n"
     ]
    }
   ],
   "source": [
    "import time\n",
    "import copy\n",
    "import pandas as pd\n",
    "\n",
    "metrics = {\"Train\":{\"Accuracy\": 0,\n",
    "                    \"Class Cats\": 0,\n",
    "                    \"Class Dogs\": 0},\n",
    "           \"Test\":{\"Accuracy\": 0,\n",
    "                    \"Class Cats\": 0,\n",
    "                    \"Class Dogs\": 0}           \n",
    "           }\n",
    "model_ft,metrics = train_model(model_ft, criterion, optimizer_ft, exp_lr_scheduler,metrics,num_epochs=25)"
   ]
  },
  {
   "cell_type": "code",
   "execution_count": 12,
   "metadata": {
    "colab": {
     "base_uri": "https://localhost:8080/"
    },
    "id": "-FJWTFNbHyOb",
    "outputId": "1c1a5c5f-47da-411b-a0cb-1c8bdb5d12ba"
   },
   "outputs": [
    {
     "data": {
      "text/plain": [
       "537085573"
      ]
     },
     "execution_count": 12,
     "metadata": {},
     "output_type": "execute_result"
    }
   ],
   "source": [
    "# Specify a path\n",
    "PATH = \"/content/drive/MyDrive/assignment_1.pt\"\n",
    "\n",
    "# Save\n",
    "torch.save(model_ft.state_dict(), PATH)\n",
    "\n",
    "import os\n",
    "# get the size of file\n",
    "size = os.path.getsize(PATH)\n",
    "size"
   ]
  },
  {
   "cell_type": "code",
   "execution_count": 13,
   "metadata": {
    "colab": {
     "base_uri": "https://localhost:8080/"
    },
    "id": "R2ZO9qSRvI9I",
    "outputId": "bbdc9305-7935-4073-a4fc-2fa2c8796bcd"
   },
   "outputs": [
    {
     "data": {
      "text/plain": [
       "{'Test': {'Accuracy': tensor(0.9150, device='cuda:0', dtype=torch.float64),\n",
       "  'Class Cats': tensor(0.9480, device='cuda:0', dtype=torch.float64),\n",
       "  'Class Dogs': tensor(0.8820, device='cuda:0', dtype=torch.float64)},\n",
       " 'Train': {'Accuracy': tensor(0.9040, device='cuda:0', dtype=torch.float64),\n",
       "  'Class Cats': tensor(0.8980, device='cuda:0', dtype=torch.float64),\n",
       "  'Class Dogs': tensor(0.9100, device='cuda:0', dtype=torch.float64)}}"
      ]
     },
     "execution_count": 13,
     "metadata": {},
     "output_type": "execute_result"
    }
   ],
   "source": [
    "pd.DataFrame(metrics).to_csv('/content/drive/MyDrive/metrics_1.csv')\n",
    "metrics"
   ]
  },
  {
   "cell_type": "code",
   "execution_count": null,
   "metadata": {
    "id": "EyEuh_I7Q06X"
   },
   "outputs": [],
   "source": []
  }
 ],
 "metadata": {
  "accelerator": "GPU",
  "colab": {
   "collapsed_sections": [],
   "machine_shape": "hm",
   "name": "EMLO Assignment 1.ipynb",
   "provenance": []
  },
  "kernelspec": {
   "display_name": "Python 3 (ipykernel)",
   "language": "python",
   "name": "python3"
  },
  "language_info": {
   "codemirror_mode": {
    "name": "ipython",
    "version": 3
   },
   "file_extension": ".py",
   "mimetype": "text/x-python",
   "name": "python",
   "nbconvert_exporter": "python",
   "pygments_lexer": "ipython3",
   "version": "3.9.7"
  }
 },
 "nbformat": 4,
 "nbformat_minor": 1
}
